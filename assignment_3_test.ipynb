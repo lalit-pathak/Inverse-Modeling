{
 "cells": [
  {
   "cell_type": "code",
   "execution_count": 145,
   "id": "regulation-gabriel",
   "metadata": {},
   "outputs": [],
   "source": [
    "import numpy as np\n",
    "import matplotlib.pyplot as plt\n",
    "\n",
    "import dynesty\n",
    "import emcee\n",
    "import corner\n",
    "from tqdm import tqdm"
   ]
  },
  {
   "cell_type": "code",
   "execution_count": 146,
   "id": "extensive-specialist",
   "metadata": {},
   "outputs": [],
   "source": [
    "muX, muY = 3, 5\n",
    "sigmaX, sigmaY = 1, 1\n",
    "sigma = np.array([sigmaX, sigmaY])\n",
    "rhoXY = 0.3\n",
    "mean = np.array([muX, muY])\n",
    "cov = np.array([[sigmaX, rhoXY], [rhoXY, sigmaY]])\n",
    "\n",
    "size = 1000\n",
    "\n",
    "seed = 0\n",
    "np.random.seed(seed)\n",
    "data = np.random.multivariate_normal(mean, cov, size=size)"
   ]
  },
  {
   "cell_type": "code",
   "execution_count": 206,
   "id": "quantitative-amateur",
   "metadata": {},
   "outputs": [],
   "source": [
    "def log_likelihood(theta):\n",
    "    \n",
    "    muX, muY, sigmaX, sigmaY, rhoXY = theta\n",
    "    mean = np.array([muX, muY])\n",
    "    covXY =  np.array([[sigmaX, rhoXY], [rhoXY, sigmaY]])\n",
    "    \n",
    "    log_lr = 0\n",
    "    \n",
    "    for i in range(len(data)):\n",
    "    \n",
    "         log_lr += ((data[i,:] - mean).T@np.linalg.inv(covXY))@(data[i,:] - mean)\n",
    "        \n",
    "    return -0.5 * (len(data)*np.log(2*np.pi*np.linalg.det(covXY)) + float(log_lr.flatten()))\n",
    "\n",
    "def log_prior(theta):\n",
    "    \n",
    "    muX, muY, sigmaX, sigmaY, rhoXY = theta\n",
    "    \n",
    "    if (1 <= muX <= 5 and 3 <= muY <= 7 and 0 <= sigmaX <= 2 and 0 <= sigmaY <= 2 \n",
    "                                and 0.1 <= rhoXY <= 0.5):\n",
    "        \n",
    "        return 0.0\n",
    "    \n",
    "    return -np.inf\n",
    "\n",
    "def log_probability(theta):\n",
    "    \n",
    "    lp = log_prior(theta)\n",
    "    \n",
    "    if not np.isfinite(lp):\n",
    "        \n",
    "        return -np.inf\n",
    "    \n",
    "    return lp + log_likelihood(theta)\n",
    "\n",
    "def proposal(pos):\n",
    "    \n",
    "    return pos + np.random.randn(5)"
   ]
  },
  {
   "cell_type": "code",
   "execution_count": 203,
   "id": "major-concern",
   "metadata": {},
   "outputs": [],
   "source": [
    "# points = np.zeros((1000, 5))\n",
    "\n",
    "# for i in range(1000):\n",
    "    \n",
    "#     points[i,:] = proposal(pos_init)\n",
    "#     print(log_prior(points[i,:]))"
   ]
  },
  {
   "cell_type": "code",
   "execution_count": 204,
   "id": "fluid-vampire",
   "metadata": {},
   "outputs": [
    {
     "name": "stderr",
     "output_type": "stream",
     "text": [
      "100%|██████████| 1000/1000 [00:00<00:00, 34991.90it/s]\n"
     ]
    }
   ],
   "source": [
    "muX_init, muY_init, sigmaX_init, sigmaY_init, rhoXY_init = 3, 5, 1, 1, 0.3 \n",
    "pos_init = np.array([muX_init, muY_init, sigmaX_init, sigmaY_init, rhoXY_init])\n",
    "\n",
    "nIters = 1000\n",
    "accept = [pos_init]\n",
    "reject = []\n",
    "\n",
    "for i in tqdm(range(nIters)):\n",
    "    \n",
    "    pos_props = proposal(pos_init)\n",
    "    log_lr = log_probability(pos_init)\n",
    "    log_lr_prop = log_probability(pos_props)\n",
    "    \n",
    "    if(log_lr_prop/log_lr > 1):\n",
    "        \n",
    "        accept.append(pos_props)\n",
    "        pos_init = pos_props\n",
    "        \n",
    "    elif(log_lr_prop/log_lr > np.random.rand()):\n",
    "        \n",
    "        accept.append(pos_props)\n",
    "        pos_init = pos_props\n",
    "            \n",
    "    else:\n",
    "            \n",
    "        reject.append(pos_props)\n",
    "        \n",
    "accept = np.array(accept)\n",
    "reject = np.array(reject)"
   ]
  },
  {
   "cell_type": "code",
   "execution_count": 205,
   "id": "shaped-procurement",
   "metadata": {},
   "outputs": [
    {
     "data": {
      "text/plain": [
       "(array([1., 0., 0., 0., 0., 0., 0., 0., 0., 1.]),\n",
       " array([-4.52086896, -3.76878206, -3.01669517, -2.26460827, -1.51252137,\n",
       "        -0.76043448, -0.00834758,  0.74373931,  1.49582621,  2.2479131 ,\n",
       "         3.        ]),\n",
       " <BarContainer object of 10 artists>)"
      ]
     },
     "execution_count": 205,
     "metadata": {},
     "output_type": "execute_result"
    },
    {
     "data": {
      "image/png": "[encoded data removed]",
      "text/plain": [
       "<Figure size 432x288 with 1 Axes>"
      ]
     },
     "metadata": {
      "needs_background": "light"
     },
     "output_type": "display_data"
    }
   ],
   "source": [
    "plt.hist(accept[:,0])"
   ]
  },
  {
   "cell_type": "code",
   "execution_count": null,
   "id": "supported-point",
   "metadata": {},
   "outputs": [],
   "source": []
  },
  {
   "cell_type": "code",
   "execution_count": null,
   "id": "stone-grace",
   "metadata": {},
   "outputs": [],
   "source": []
  },
  {
   "cell_type": "code",
   "execution_count": null,
   "id": "tough-machinery",
   "metadata": {},
   "outputs": [],
   "source": []
  }
 ],
 "metadata": {
  "kernelspec": {
   "display_name": "Python 3 (ipykernel)",
   "language": "python",
   "name": "python3"
  },
  "language_info": {
   "codemirror_mode": {
    "name": "ipython",
    "version": 3
   },
   "file_extension": ".py",
   "mimetype": "text/x-python",
   "name": "python",
   "nbconvert_exporter": "python",
   "pygments_lexer": "ipython3",
   "version": "3.10.6"
  }
 },
 "nbformat": 4,
 "nbformat_minor": 5
}
