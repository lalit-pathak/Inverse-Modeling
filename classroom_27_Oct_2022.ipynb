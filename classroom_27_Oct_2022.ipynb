{
 "cells": [
  {
   "cell_type": "code",
   "execution_count": 1,
   "id": "genetic-premises",
   "metadata": {},
   "outputs": [],
   "source": [
    "import numpy as np\n",
    "from scipy.linalg import svd\n",
    "\n",
    "import matplotlib.pyplot as plt"
   ]
  },
  {
   "cell_type": "markdown",
   "id": "ordinary-replica",
   "metadata": {},
   "source": [
    "$$A = U \\,\\Sigma \\,V^T$$\n",
    "$$A^T A = V \\, (\\Sigma^T\\, \\Sigma) V^T$$\n",
    "$$U = AV\\Sigma^{-1}$$"
   ]
  },
  {
   "cell_type": "code",
   "execution_count": 2,
   "id": "above-female",
   "metadata": {},
   "outputs": [],
   "source": [
    "A = np.array([[1, 3, 5], [3, 5, -7], [8, 9, 2]] )\n",
    "X = np.matmul(A.T, A)"
   ]
  },
  {
   "cell_type": "code",
   "execution_count": 3,
   "id": "separate-wilderness",
   "metadata": {},
   "outputs": [],
   "source": [
    "evals, right_evecs = np.linalg.eig(X)\n",
    "\n",
    "Sigma = np.zeros((3,3))\n",
    "for i in range(3):\n",
    "    Sigma[i,i] = np.sqrt(evals[i])\n",
    "    \n",
    "left_vecs = np.matmul(np.matmul(A, right_evecs), np.linalg.inv(Sigma))"
   ]
  },
  {
   "cell_type": "code",
   "execution_count": 4,
   "id": "finnish-proposal",
   "metadata": {},
   "outputs": [
    {
     "data": {
      "text/plain": [
       "(array([[ 0.21192652,  0.79469621,  0.56881024],\n",
       "        [ 0.43014928,  0.44676913, -0.78445455],\n",
       "        [ 0.87752991, -0.41092004,  0.24715578]]),\n",
       " array([[ 6.23522619e-01, -7.81500799e-01,  2.18184363e-02],\n",
       "        [ 7.81673321e-01,  6.23687326e-01,  9.69238228e-04],\n",
       "        [-1.43653426e-02,  1.64505476e-02,  9.99761480e-01]]),\n",
       " array([[13.66849155,  0.        ,  0.        ],\n",
       "        [ 0.        ,  1.47454323,  0.        ],\n",
       "        [ 0.        ,  0.        ,  8.83165109]]))"
      ]
     },
     "execution_count": 4,
     "metadata": {},
     "output_type": "execute_result"
    }
   ],
   "source": [
    "left_vecs, right_evecs, Sigma"
   ]
  },
  {
   "cell_type": "code",
   "execution_count": 11,
   "id": "enhanced-partner",
   "metadata": {},
   "outputs": [
    {
     "data": {
      "text/plain": [
       "(array([[-0.21192652, -0.56881024,  0.79469621],\n",
       "        [-0.43014928,  0.78445455,  0.44676913],\n",
       "        [-0.87752991, -0.24715578, -0.41092004]]),\n",
       " array([13.66849155,  8.83165109,  1.47454323]),\n",
       " array([[-6.23522619e-01, -7.81673321e-01,  1.43653426e-02],\n",
       "        [-2.18184363e-02, -9.69238228e-04, -9.99761480e-01],\n",
       "        [-7.81500799e-01,  6.23687326e-01,  1.64505476e-02]]))"
      ]
     },
     "execution_count": 11,
     "metadata": {},
     "output_type": "execute_result"
    }
   ],
   "source": [
    "svd(A)"
   ]
  },
  {
   "cell_type": "code",
   "execution_count": null,
   "id": "strong-conservation",
   "metadata": {},
   "outputs": [],
   "source": []
  },
  {
   "cell_type": "code",
   "execution_count": null,
   "id": "helpful-atmosphere",
   "metadata": {},
   "outputs": [],
   "source": []
  },
  {
   "cell_type": "code",
   "execution_count": null,
   "id": "complete-soundtrack",
   "metadata": {},
   "outputs": [],
   "source": []
  },
  {
   "cell_type": "code",
   "execution_count": null,
   "id": "transsexual-recommendation",
   "metadata": {},
   "outputs": [],
   "source": []
  },
  {
   "cell_type": "code",
   "execution_count": null,
   "id": "fleet-semiconductor",
   "metadata": {},
   "outputs": [],
   "source": []
  }
 ],
 "metadata": {
  "kernelspec": {
   "display_name": "Python 3 (ipykernel)",
   "language": "python",
   "name": "python3"
  },
  "language_info": {
   "codemirror_mode": {
    "name": "ipython",
    "version": 3
   },
   "file_extension": ".py",
   "mimetype": "text/x-python",
   "name": "python",
   "nbconvert_exporter": "python",
   "pygments_lexer": "ipython3",
   "version": "3.10.6"
  }
 },
 "nbformat": 4,
 "nbformat_minor": 5
}
