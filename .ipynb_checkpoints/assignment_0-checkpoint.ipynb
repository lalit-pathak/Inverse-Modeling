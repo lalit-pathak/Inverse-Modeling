{
 "cells": [
  {
   "cell_type": "code",
   "execution_count": 1,
   "id": "alive-belarus",
   "metadata": {},
   "outputs": [],
   "source": [
    "import numpy as np\n",
    "import scipy as sp\n",
    "from scipy.stats import chi2\n",
    "\n",
    "import matplotlib.pyplot as plt"
   ]
  },
  {
   "cell_type": "code",
   "execution_count": 2,
   "id": "racial-blink",
   "metadata": {},
   "outputs": [],
   "source": [
    "def getL2Sol(data, G):\n",
    "    \n",
    "    \"\"\"\n",
    "    Function to calculate least square/L2 solution\n",
    "    \n",
    "    Parameters\n",
    "    -----------\n",
    "    data: data (numpy array) # dependent variable only\n",
    "    G: model matrix (numpy array)\n",
    "    \n",
    "    Returns\n",
    "    --------\n",
    "    ls_sol: least square solution\n",
    "    residual: res\n",
    "    G: model matrix\n",
    "    \n",
    "    \"\"\"\n",
    "\n",
    "    #-- ML2 Solution ---\n",
    "    Coeff = np.matmul(np.linalg.inv(np.matmul(np.transpose(G), G)), np.transpose(G))\n",
    "    ls_sol = np.matmul(Coeff, data)\n",
    "    \n",
    "    return ls_sol\n",
    "    \n",
    "def getL1Sol(data, G, L2_solution, tol):\n",
    "    \n",
    "    \"\"\"\n",
    "    Function to calculate IRLS/L1 solution\n",
    "    \n",
    "    Parameters\n",
    "    -----------\n",
    "    data: data (numpy array)\n",
    "    G: model matrix (numpy array)\n",
    "    ls_solution: least square solution for the initialization of iterative procedure\n",
    "    tol: error tolerance\n",
    "    \n",
    "    Returns\n",
    "    --------\n",
    "    \n",
    "    mL1_new: L1 solution (numpy array)\n",
    "    \n",
    "    \"\"\"\n",
    "        \n",
    "    nObs, nParams = G.shape\n",
    "    \n",
    "    error = 1\n",
    "    m_init = L2_solution\n",
    "\n",
    "    while(error > tol):\n",
    "\n",
    "        # cacluate the R matrix\n",
    "        r_init = data - np.matmul(G, m_init.reshape(nParams,1)).flatten()\n",
    "        R_init = np.zeros((nObs, nObs))\n",
    "\n",
    "        for i in range(nObs):\n",
    "\n",
    "            R_init[i,i] = 1/abs(r_init[i])\n",
    "\n",
    "        # calculate the coefficient matrix\n",
    "        Coeff = np.matmul(np.linalg.inv(np.matmul(np.matmul(np.transpose(G), R_init), G)), \\\n",
    "                          np.matmul(np.transpose(G), R_init))\n",
    "\n",
    "        # new ML1 solution\n",
    "        mL1_new = np.matmul(Coeff, data)\n",
    "\n",
    "        # error calculation\n",
    "        error = np.linalg.norm(mL1_new - m_init) / (1 + np.linalg.norm(mL1_new))\n",
    "\n",
    "        m_init = mL1_new\n",
    "        \n",
    "    return mL1_new"
   ]
  },
  {
   "cell_type": "code",
   "execution_count": 3,
   "id": "superior-harvey",
   "metadata": {},
   "outputs": [
    {
     "name": "stdout",
     "output_type": "stream",
     "text": [
      "L2 solution\n",
      "m_1: 26.408333333339442\n",
      "m_2: 75.60765151515051\n",
      "m_3: 4.8628787878786355\n",
      "\n",
      "L1 solution\n",
      "m_1: 17.16713855846153\n",
      "m_2: 96.97167167790973\n",
      "m_3: 9.477620478473497\n",
      "\n"
     ]
    }
   ],
   "source": [
    "mean, sigma = 0, 8  # normal data errors\n",
    "\n",
    "#-- data (first and second column represent time and position respectively ---\n",
    "data = np.array([[1, 109.4], [2, 187.5], [3, 267.5], [4, 131.9], [5, 386.1], [6, 428.4], \\\n",
    "             [7, 452.2], [8, 498.1], [9, 512.3], [10, 513.0]]) \n",
    "\n",
    "nParams = 3\n",
    "nObs = data.shape[0]\n",
    "\n",
    "#-- model matrix ---\n",
    "G = np.ones((nObs, 3))\n",
    "G[:,1] = G[:,1] * data[:,0]\n",
    "G[:,2] = - G[:,2] * data[:,0]**2 / 2\n",
    "\n",
    "tol = 10**(-6) # error tolerance for IRLS/L1 algorithm\n",
    "L2_solution = getL2Sol(data[:,1], G)\n",
    "L1_solution = getL1Sol(data[:,1], G, L2_solution, tol)\n",
    "\n",
    "#-- model prediction with L1 solution ---\n",
    "model_L1 = L1_solution[0] + L1_solution[1]*data[:,0] \\\n",
    "                                - 0.5 * L1_solution[2] * data[:,0]**2\n",
    "\n",
    "#-- model prediction with L2 solution ---\n",
    "model_L2 = L2_solution[0] + L2_solution[1]*data[:,0] \\\n",
    "                                - 0.5 * L2_solution[2] * data[:,0]**2\n",
    "\n",
    "print('L2 solution')\n",
    "print('m_1: {}'.format(L2_solution[0]))\n",
    "print('m_2: {}'.format(L2_solution[1]))\n",
    "print('m_3: {}\\n'.format(L2_solution[2]))\n",
    "\n",
    "print('L1 solution')\n",
    "print('m_1: {}'.format(L1_solution[0]))\n",
    "print('m_2: {}'.format(L1_solution[1]))\n",
    "print('m_3: {}\\n'.format(L1_solution[2]))\n"
   ]
  },
  {
   "cell_type": "code",
   "execution_count": 4,
   "id": "informational-exploration",
   "metadata": {},
   "outputs": [
    {
     "data": {
      "image/png": "[encoded data removed]",
      "text/plain": [
       "<Figure size 504x360 with 1 Axes>"
      ]
     },
     "metadata": {
      "needs_background": "light"
     },
     "output_type": "display_data"
    }
   ],
   "source": [
    "#-- plotting the data with model prediction ---\n",
    "plt.figure(figsize=(7,5))\n",
    "\n",
    "plt.scatter(data[:,0], data[:,1], label='data', s=20)\n",
    "plt.errorbar(data[:,0], data[:,1], yerr = sigma, capsize=2, ls='None')\n",
    "plt.plot(data[:,0], model_L1, c='k', label='L1 fit')\n",
    "plt.plot(data[:,0], model_L2, ls='--', c='r', label='L2 fit')\n",
    "plt.xlabel('Time (s)', fontsize=14)\n",
    "plt.ylabel('Elevation (m)', fontsize=14)\n",
    "plt.xticks(fontsize=14)\n",
    "plt.yticks(fontsize=14)\n",
    "plt.legend(loc=2, fontsize=14)\n",
    "plt.title('Prediction with an outlier in data at t = 4s', fontsize=14)\n",
    "plt.show()"
   ]
  },
  {
   "cell_type": "markdown",
   "id": "obvious-render",
   "metadata": {},
   "source": [
    "#### Conclusion\n",
    "We can clearly see that IRLS/L1 fit is robust against the outlier in the data as compared to L2 fit."
   ]
  },
  {
   "cell_type": "code",
   "execution_count": null,
   "id": "seven-shannon",
   "metadata": {},
   "outputs": [],
   "source": []
  },
  {
   "cell_type": "code",
   "execution_count": null,
   "id": "advisory-routine",
   "metadata": {},
   "outputs": [],
   "source": []
  }
 ],
 "metadata": {
  "kernelspec": {
   "display_name": "pycbc_latest_rbf",
   "language": "python",
   "name": "pycbc_latest_rbf"
  },
  "language_info": {
   "codemirror_mode": {
    "name": "ipython",
    "version": 3
   },
   "file_extension": ".py",
   "mimetype": "text/x-python",
   "name": "python",
   "nbconvert_exporter": "python",
   "pygments_lexer": "ipython3",
   "version": "3.10.6"
  }
 },
 "nbformat": 4,
 "nbformat_minor": 5
}
